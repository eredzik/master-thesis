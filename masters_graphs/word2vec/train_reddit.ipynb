{
 "cells": [
  {
   "cell_type": "code",
   "execution_count": 1,
   "metadata": {},
   "outputs": [],
   "source": [
    "%load_ext autoreload\n",
    "%autoreload 2"
   ]
  },
  {
   "cell_type": "code",
   "execution_count": 2,
   "metadata": {},
   "outputs": [],
   "source": [
    "from train_strategy import node2vec_train_strategy\n",
    "\n",
    "from dataset_reddit import RedditDataset\n",
    "\n",
    "import logging\n",
    "reddit2train = RedditDataset.from_gml('reddit_train.gml')"
   ]
  },
  {
   "cell_type": "code",
   "execution_count": 3,
   "metadata": {},
   "outputs": [
    {
     "data": {
      "text/plain": [
       "152410"
      ]
     },
     "execution_count": 3,
     "metadata": {},
     "output_type": "execute_result"
    }
   ],
   "source": [
    "len(reddit2train.gf)"
   ]
  },
  {
   "cell_type": "code",
   "execution_count": 5,
   "metadata": {},
   "outputs": [],
   "source": [
    "from networkx.readwrite import gpickle\n",
    "gpickle.write_gpickle(reddit2train.gf, 'gf.pickle')"
   ]
  },
  {
   "cell_type": "code",
   "execution_count": 6,
   "metadata": {},
   "outputs": [],
   "source": [
    "gf = gpickle.read_gpickle('gf.pickle')"
   ]
  },
  {
   "cell_type": "code",
   "execution_count": 3,
   "metadata": {},
   "outputs": [
    {
     "name": "stderr",
     "output_type": "stream",
     "text": [
      "INFO:root:Starting loading dataset.\n",
      "INFO:root:Loaded dataset.\n"
     ]
    }
   ],
   "source": [
    "\n",
    "\n",
    "walk_length = 2\n",
    "embedding_dim = 10\n",
    "logging.basicConfig(level=logging.INFO)\n",
    "logging.info(\"Starting loading dataset.\")\n",
    "reddit_train = RedditDataset(\n",
    "    walk_length=walk_length, dataset_dir=\"../../data/reddit\", dataset_mode=\"train\"\n",
    ")\n",
    "logging.info(\"Loaded dataset.\")\n"
   ]
  },
  {
   "cell_type": "code",
   "execution_count": 4,
   "metadata": {},
   "outputs": [
    {
     "data": {
      "text/plain": [
       "<networkx.classes.graph.Graph at 0x7fc138240c40>"
      ]
     },
     "execution_count": 4,
     "metadata": {},
     "output_type": "execute_result"
    }
   ],
   "source": [
    "reddit_train.gf"
   ]
  },
  {
   "cell_type": "code",
   "execution_count": null,
   "metadata": {},
   "outputs": [],
   "source": []
  },
  {
   "cell_type": "code",
   "execution_count": 5,
   "metadata": {},
   "outputs": [
    {
     "name": "stderr",
     "output_type": "stream",
     "text": [
      "INFO:root:Starting train on Karate Club dataset at 2021-11-07 21:57:18.205149\n",
      "INFO:root:Finished epoch 0.\n",
      "INFO:root:Finished epoch 1.\n",
      "INFO:root:Finished epoch 2.\n",
      "INFO:root:Finished epoch 3.\n",
      "INFO:root:Finished epoch 4.\n",
      "INFO:root:Finished epoch 5.\n",
      "INFO:root:Finished epoch 6.\n",
      "INFO:root:Finished epoch 7.\n",
      "INFO:root:Finished epoch 8.\n",
      "INFO:root:Finished epoch 9.\n",
      "INFO:root:Finished epoch 10.\n",
      "INFO:root:Finished epoch 11.\n",
      "INFO:root:Finished epoch 12.\n",
      "INFO:root:Finished epoch 13.\n",
      "INFO:root:Finished epoch 14.\n",
      "INFO:root:Finished epoch 15.\n",
      "INFO:root:Finished epoch 16.\n",
      "INFO:root:Finished epoch 17.\n",
      "INFO:root:Finished epoch 18.\n",
      "INFO:root:Finished epoch 19.\n",
      "INFO:root:Finished epoch 20.\n",
      "INFO:root:Finished epoch 21.\n",
      "INFO:root:Finished epoch 22.\n",
      "INFO:root:Finished epoch 23.\n",
      "INFO:root:Finished epoch 24.\n",
      "INFO:root:Finished epoch 25.\n",
      "INFO:root:Finished epoch 26.\n",
      "INFO:root:Finished epoch 27.\n",
      "INFO:root:Finished epoch 28.\n",
      "INFO:root:Finished epoch 29.\n",
      "INFO:root:Finished epoch 30.\n",
      "INFO:root:Finished epoch 31.\n",
      "INFO:root:Finished epoch 32.\n",
      "INFO:root:Finished epoch 33.\n",
      "INFO:root:Finished epoch 34.\n",
      "INFO:root:Finished epoch 35.\n",
      "INFO:root:Finished epoch 36.\n",
      "INFO:root:Finished epoch 37.\n",
      "INFO:root:Finished epoch 38.\n",
      "INFO:root:Finished epoch 39.\n",
      "INFO:root:Finished epoch 40.\n",
      "INFO:root:Finished epoch 41.\n",
      "INFO:root:Finished epoch 42.\n",
      "INFO:root:Finished epoch 43.\n",
      "INFO:root:Finished epoch 44.\n",
      "INFO:root:Finished epoch 45.\n",
      "INFO:root:Finished epoch 46.\n",
      "INFO:root:Finished epoch 47.\n",
      "INFO:root:Finished epoch 48.\n",
      "INFO:root:Finished epoch 49.\n",
      "INFO:root:Finished epoch 50.\n",
      "INFO:root:Finished epoch 51.\n",
      "INFO:root:Finished epoch 52.\n",
      "INFO:root:Finished epoch 53.\n",
      "INFO:root:Finished epoch 54.\n",
      "INFO:root:Finished epoch 55.\n",
      "INFO:root:Finished epoch 56.\n",
      "INFO:root:Finished epoch 57.\n",
      "INFO:root:Finished epoch 58.\n",
      "INFO:root:Finished epoch 59.\n",
      "INFO:root:Finished epoch 60.\n",
      "INFO:root:Finished epoch 61.\n",
      "INFO:root:Finished epoch 62.\n",
      "INFO:root:Finished epoch 63.\n",
      "INFO:root:Finished epoch 64.\n",
      "INFO:root:Finished epoch 65.\n",
      "INFO:root:Finished epoch 66.\n",
      "INFO:root:Finished epoch 67.\n",
      "INFO:root:Finished epoch 68.\n",
      "INFO:root:Finished epoch 69.\n",
      "INFO:root:Finished epoch 70.\n",
      "INFO:root:Finished epoch 71.\n",
      "INFO:root:Finished epoch 72.\n",
      "INFO:root:Finished epoch 73.\n",
      "INFO:root:Finished epoch 74.\n",
      "INFO:root:Finished epoch 75.\n",
      "INFO:root:Finished epoch 76.\n",
      "INFO:root:Finished epoch 77.\n",
      "INFO:root:Finished epoch 78.\n",
      "INFO:root:Finished epoch 79.\n",
      "INFO:root:Finished epoch 80.\n",
      "INFO:root:Finished epoch 81.\n",
      "INFO:root:Finished epoch 82.\n",
      "INFO:root:Finished epoch 83.\n",
      "INFO:root:Finished epoch 84.\n",
      "INFO:root:Finished epoch 85.\n",
      "INFO:root:Finished epoch 86.\n",
      "INFO:root:Finished epoch 87.\n",
      "INFO:root:Finished epoch 88.\n",
      "INFO:root:Finished epoch 89.\n",
      "INFO:root:Finished epoch 90.\n",
      "INFO:root:Finished epoch 91.\n",
      "INFO:root:Finished epoch 92.\n",
      "INFO:root:Finished epoch 93.\n",
      "INFO:root:Finished epoch 94.\n",
      "INFO:root:Finished epoch 95.\n",
      "INFO:root:Finished epoch 96.\n",
      "INFO:root:Finished epoch 97.\n",
      "INFO:root:Finished epoch 98.\n",
      "INFO:root:Finished epoch 99.\n",
      "INFO:root:Training finished on 2021-11-07 22:16:59.996726(0:19:41.791588)\n"
     ]
    },
    {
     "ename": "ValueError",
     "evalue": "multiclass format is not supported",
     "output_type": "error",
     "traceback": [
      "\u001b[0;31m---------------------------------------------------------------------------\u001b[0m",
      "\u001b[0;31mValueError\u001b[0m                                Traceback (most recent call last)",
      "\u001b[0;32m/tmp/ipykernel_53750/401538396.py\u001b[0m in \u001b[0;36m<module>\u001b[0;34m\u001b[0m\n\u001b[0;32m----> 1\u001b[0;31m \u001b[0mnode2vec_train_strategy\u001b[0m\u001b[0;34m(\u001b[0m\u001b[0mwalk_length\u001b[0m\u001b[0;34m,\u001b[0m \u001b[0membedding_dim\u001b[0m\u001b[0;34m,\u001b[0m \u001b[0mreddit_train\u001b[0m\u001b[0;34m,\u001b[0m \u001b[0mlen\u001b[0m\u001b[0;34m(\u001b[0m\u001b[0mset\u001b[0m\u001b[0;34m(\u001b[0m\u001b[0mreddit_train\u001b[0m\u001b[0;34m.\u001b[0m\u001b[0my\u001b[0m\u001b[0;34m)\u001b[0m\u001b[0;34m)\u001b[0m\u001b[0;34m)\u001b[0m\u001b[0;34m\u001b[0m\u001b[0;34m\u001b[0m\u001b[0m\n\u001b[0m\u001b[1;32m      2\u001b[0m \u001b[0;34m\u001b[0m\u001b[0m\n\u001b[1;32m      3\u001b[0m \u001b[0;34m\u001b[0m\u001b[0m\n",
      "\u001b[0;32m~/projects/masters/masters_graphs/word2vec/train_strategy.py\u001b[0m in \u001b[0;36mnode2vec_train_strategy\u001b[0;34m(walk_length, embedding_dim, dataset, n_classes_y)\u001b[0m\n\u001b[1;32m     99\u001b[0m     \u001b[0mpredictions_binary\u001b[0m \u001b[0;34m=\u001b[0m \u001b[0mpredictions\u001b[0m\u001b[0;34m[\u001b[0m\u001b[0;34m:\u001b[0m\u001b[0;34m,\u001b[0m \u001b[0;36m1\u001b[0m\u001b[0;34m]\u001b[0m \u001b[0;34m>\u001b[0m \u001b[0mpredictions\u001b[0m\u001b[0;34m[\u001b[0m\u001b[0;34m:\u001b[0m\u001b[0;34m,\u001b[0m \u001b[0;36m0\u001b[0m\u001b[0;34m]\u001b[0m\u001b[0;34m\u001b[0m\u001b[0;34m\u001b[0m\u001b[0m\n\u001b[1;32m    100\u001b[0m     \u001b[0max3\u001b[0m \u001b[0;34m=\u001b[0m \u001b[0mplt\u001b[0m\u001b[0;34m.\u001b[0m\u001b[0msubplot\u001b[0m\u001b[0;34m(\u001b[0m\u001b[0;36m3\u001b[0m\u001b[0;34m,\u001b[0m \u001b[0;36m1\u001b[0m\u001b[0;34m,\u001b[0m \u001b[0;36m3\u001b[0m\u001b[0;34m)\u001b[0m\u001b[0;34m\u001b[0m\u001b[0;34m\u001b[0m\u001b[0m\n\u001b[0;32m--> 101\u001b[0;31m     \u001b[0mRocCurveDisplay\u001b[0m\u001b[0;34m.\u001b[0m\u001b[0mfrom_predictions\u001b[0m\u001b[0;34m(\u001b[0m\u001b[0mdataset\u001b[0m\u001b[0;34m.\u001b[0m\u001b[0my\u001b[0m\u001b[0;34m,\u001b[0m \u001b[0mpredictions_binary\u001b[0m\u001b[0;34m,\u001b[0m \u001b[0max\u001b[0m\u001b[0;34m=\u001b[0m\u001b[0max3\u001b[0m\u001b[0;34m)\u001b[0m\u001b[0;34m\u001b[0m\u001b[0;34m\u001b[0m\u001b[0m\n\u001b[0m\u001b[1;32m    102\u001b[0m     \u001b[0mplt\u001b[0m\u001b[0;34m.\u001b[0m\u001b[0mshow\u001b[0m\u001b[0;34m(\u001b[0m\u001b[0mblock\u001b[0m\u001b[0;34m=\u001b[0m\u001b[0;32mTrue\u001b[0m\u001b[0;34m)\u001b[0m\u001b[0;34m\u001b[0m\u001b[0;34m\u001b[0m\u001b[0m\n",
      "\u001b[0;32m~/.local/share/virtualenvs/masters--_fQS0pJ/lib/python3.9/site-packages/sklearn/metrics/_plot/roc_curve.py\u001b[0m in \u001b[0;36mfrom_predictions\u001b[0;34m(cls, y_true, y_pred, sample_weight, drop_intermediate, pos_label, name, ax, **kwargs)\u001b[0m\n\u001b[1;32m    331\u001b[0m         \u001b[0mcheck_matplotlib_support\u001b[0m\u001b[0;34m(\u001b[0m\u001b[0;34mf\"{cls.__name__}.from_predictions\"\u001b[0m\u001b[0;34m)\u001b[0m\u001b[0;34m\u001b[0m\u001b[0;34m\u001b[0m\u001b[0m\n\u001b[1;32m    332\u001b[0m \u001b[0;34m\u001b[0m\u001b[0m\n\u001b[0;32m--> 333\u001b[0;31m         fpr, tpr, _ = roc_curve(\n\u001b[0m\u001b[1;32m    334\u001b[0m             \u001b[0my_true\u001b[0m\u001b[0;34m,\u001b[0m\u001b[0;34m\u001b[0m\u001b[0;34m\u001b[0m\u001b[0m\n\u001b[1;32m    335\u001b[0m             \u001b[0my_pred\u001b[0m\u001b[0;34m,\u001b[0m\u001b[0;34m\u001b[0m\u001b[0;34m\u001b[0m\u001b[0m\n",
      "\u001b[0;32m~/.local/share/virtualenvs/masters--_fQS0pJ/lib/python3.9/site-packages/sklearn/metrics/_ranking.py\u001b[0m in \u001b[0;36mroc_curve\u001b[0;34m(y_true, y_score, pos_label, sample_weight, drop_intermediate)\u001b[0m\n\u001b[1;32m    960\u001b[0m \u001b[0;34m\u001b[0m\u001b[0m\n\u001b[1;32m    961\u001b[0m     \"\"\"\n\u001b[0;32m--> 962\u001b[0;31m     fps, tps, thresholds = _binary_clf_curve(\n\u001b[0m\u001b[1;32m    963\u001b[0m         \u001b[0my_true\u001b[0m\u001b[0;34m,\u001b[0m \u001b[0my_score\u001b[0m\u001b[0;34m,\u001b[0m \u001b[0mpos_label\u001b[0m\u001b[0;34m=\u001b[0m\u001b[0mpos_label\u001b[0m\u001b[0;34m,\u001b[0m \u001b[0msample_weight\u001b[0m\u001b[0;34m=\u001b[0m\u001b[0msample_weight\u001b[0m\u001b[0;34m\u001b[0m\u001b[0;34m\u001b[0m\u001b[0m\n\u001b[1;32m    964\u001b[0m     )\n",
      "\u001b[0;32m~/.local/share/virtualenvs/masters--_fQS0pJ/lib/python3.9/site-packages/sklearn/metrics/_ranking.py\u001b[0m in \u001b[0;36m_binary_clf_curve\u001b[0;34m(y_true, y_score, pos_label, sample_weight)\u001b[0m\n\u001b[1;32m    729\u001b[0m     \u001b[0my_type\u001b[0m \u001b[0;34m=\u001b[0m \u001b[0mtype_of_target\u001b[0m\u001b[0;34m(\u001b[0m\u001b[0my_true\u001b[0m\u001b[0;34m)\u001b[0m\u001b[0;34m\u001b[0m\u001b[0;34m\u001b[0m\u001b[0m\n\u001b[1;32m    730\u001b[0m     \u001b[0;32mif\u001b[0m \u001b[0;32mnot\u001b[0m \u001b[0;34m(\u001b[0m\u001b[0my_type\u001b[0m \u001b[0;34m==\u001b[0m \u001b[0;34m\"binary\"\u001b[0m \u001b[0;32mor\u001b[0m \u001b[0;34m(\u001b[0m\u001b[0my_type\u001b[0m \u001b[0;34m==\u001b[0m \u001b[0;34m\"multiclass\"\u001b[0m \u001b[0;32mand\u001b[0m \u001b[0mpos_label\u001b[0m \u001b[0;32mis\u001b[0m \u001b[0;32mnot\u001b[0m \u001b[0;32mNone\u001b[0m\u001b[0;34m)\u001b[0m\u001b[0;34m)\u001b[0m\u001b[0;34m:\u001b[0m\u001b[0;34m\u001b[0m\u001b[0;34m\u001b[0m\u001b[0m\n\u001b[0;32m--> 731\u001b[0;31m         \u001b[0;32mraise\u001b[0m \u001b[0mValueError\u001b[0m\u001b[0;34m(\u001b[0m\u001b[0;34m\"{0} format is not supported\"\u001b[0m\u001b[0;34m.\u001b[0m\u001b[0mformat\u001b[0m\u001b[0;34m(\u001b[0m\u001b[0my_type\u001b[0m\u001b[0;34m)\u001b[0m\u001b[0;34m)\u001b[0m\u001b[0;34m\u001b[0m\u001b[0;34m\u001b[0m\u001b[0m\n\u001b[0m\u001b[1;32m    732\u001b[0m \u001b[0;34m\u001b[0m\u001b[0m\n\u001b[1;32m    733\u001b[0m     \u001b[0mcheck_consistent_length\u001b[0m\u001b[0;34m(\u001b[0m\u001b[0my_true\u001b[0m\u001b[0;34m,\u001b[0m \u001b[0my_score\u001b[0m\u001b[0;34m,\u001b[0m \u001b[0msample_weight\u001b[0m\u001b[0;34m)\u001b[0m\u001b[0;34m\u001b[0m\u001b[0;34m\u001b[0m\u001b[0m\n",
      "\u001b[0;31mValueError\u001b[0m: multiclass format is not supported"
     ]
    },
    {
     "data": {
      "image/png": "[encoded data removed]",
      "text/plain": [
       "<Figure size 432x288 with 3 Axes>"
      ]
     },
     "metadata": {
      "needs_background": "light"
     },
     "output_type": "display_data"
    }
   ],
   "source": [
    "\n",
    "node2vec_train_strategy(walk_length, embedding_dim, reddit_train, len(set(reddit_train.y)))\n",
    "\n",
    "\n"
   ]
  },
  {
   "cell_type": "code",
   "execution_count": null,
   "metadata": {},
   "outputs": [],
   "source": [
    "from tqdm import tqdm"
   ]
  },
  {
   "cell_type": "code",
   "execution_count": null,
   "metadata": {},
   "outputs": [
    {
     "name": "stderr",
     "output_type": "stream",
     "text": [
      "100%|██████████| 500/500 [00:00<00:00, 2114064.52it/s]\n"
     ]
    }
   ],
   "source": [
    "for i in tqdm(range (500)):\n",
    "    pass"
   ]
  },
  {
   "cell_type": "code",
   "execution_count": 9,
   "metadata": {},
   "outputs": [],
   "source": [
    "reddit_train.write_gml(\"reddit_train.gml\")"
   ]
  },
  {
   "cell_type": "code",
   "execution_count": 10,
   "metadata": {},
   "outputs": [
    {
     "ename": "AttributeError",
     "evalue": "type object 'RedditDataset' has no attribute 'read_gml'",
     "output_type": "error",
     "traceback": [
      "\u001b[0;31m---------------------------------------------------------------------------\u001b[0m",
      "\u001b[0;31mAttributeError\u001b[0m                            Traceback (most recent call last)",
      "\u001b[0;32m/tmp/ipykernel_53750/2340628212.py\u001b[0m in \u001b[0;36m<module>\u001b[0;34m\u001b[0m\n\u001b[0;32m----> 1\u001b[0;31m \u001b[0mreddit2train\u001b[0m \u001b[0;34m=\u001b[0m \u001b[0mRedditDataset\u001b[0m\u001b[0;34m.\u001b[0m\u001b[0mread_gml\u001b[0m\u001b[0;34m(\u001b[0m\u001b[0;34m'reddit_train.gml'\u001b[0m\u001b[0;34m)\u001b[0m\u001b[0;34m\u001b[0m\u001b[0;34m\u001b[0m\u001b[0m\n\u001b[0m",
      "\u001b[0;31mAttributeError\u001b[0m: type object 'RedditDataset' has no attribute 'read_gml'"
     ]
    }
   ],
   "source": [
    "reddit2train = RedditDataset.from_gml('reddit_train.gml')"
   ]
  },
  {
   "cell_type": "code",
   "execution_count": 15,
   "metadata": {},
   "outputs": [
    {
     "name": "stderr",
     "output_type": "stream",
     "text": [
      "[autoreload of dataset_reddit failed: Traceback (most recent call last):\n",
      "  File \"/home/emil/.local/share/virtualenvs/masters--_fQS0pJ/lib/python3.9/site-packages/IPython/extensions/autoreload.py\", line 245, in check\n",
      "    superreload(m, reload, self.old_objects)\n",
      "  File \"/home/emil/.local/share/virtualenvs/masters--_fQS0pJ/lib/python3.9/site-packages/IPython/extensions/autoreload.py\", line 410, in superreload\n",
      "    update_generic(old_obj, new_obj)\n",
      "  File \"/home/emil/.local/share/virtualenvs/masters--_fQS0pJ/lib/python3.9/site-packages/IPython/extensions/autoreload.py\", line 347, in update_generic\n",
      "    update(a, b)\n",
      "  File \"/home/emil/.local/share/virtualenvs/masters--_fQS0pJ/lib/python3.9/site-packages/IPython/extensions/autoreload.py\", line 302, in update_class\n",
      "    if update_generic(old_obj, new_obj): continue\n",
      "  File \"/home/emil/.local/share/virtualenvs/masters--_fQS0pJ/lib/python3.9/site-packages/IPython/extensions/autoreload.py\", line 347, in update_generic\n",
      "    update(a, b)\n",
      "  File \"/home/emil/.local/share/virtualenvs/masters--_fQS0pJ/lib/python3.9/site-packages/IPython/extensions/autoreload.py\", line 340, in <lambda>\n",
      "    lambda a, b: update_function(a.__func__, b.__func__)),\n",
      "  File \"/home/emil/.local/share/virtualenvs/masters--_fQS0pJ/lib/python3.9/site-packages/IPython/extensions/autoreload.py\", line 266, in update_function\n",
      "    setattr(old, name, getattr(new, name))\n",
      "ValueError: from_gml() requires a code object with 1 free vars, not 0\n",
      "]\n"
     ]
    },
    {
     "ename": "TypeError",
     "evalue": "super(type, obj): obj must be an instance or subtype of type",
     "output_type": "error",
     "traceback": [
      "\u001b[0;31m---------------------------------------------------------------------------\u001b[0m",
      "\u001b[0;31mTypeError\u001b[0m                                 Traceback (most recent call last)",
      "\u001b[0;32m/tmp/ipykernel_53750/2682442647.py\u001b[0m in \u001b[0;36m<module>\u001b[0;34m\u001b[0m\n\u001b[0;32m----> 1\u001b[0;31m \u001b[0mreddit2train\u001b[0m \u001b[0;34m=\u001b[0m \u001b[0mRedditDataset\u001b[0m\u001b[0;34m.\u001b[0m\u001b[0mfrom_gml\u001b[0m\u001b[0;34m(\u001b[0m\u001b[0;34m'reddit_train.gml'\u001b[0m\u001b[0;34m)\u001b[0m\u001b[0;34m\u001b[0m\u001b[0;34m\u001b[0m\u001b[0m\n\u001b[0m",
      "\u001b[0;32m~/projects/masters/masters_graphs/word2vec/dataset_reddit.py\u001b[0m in \u001b[0;36mfrom_gml\u001b[0;34m(cls, path)\u001b[0m\n\u001b[1;32m     69\u001b[0m     \u001b[0;32mdef\u001b[0m \u001b[0mfrom_gml\u001b[0m\u001b[0;34m(\u001b[0m\u001b[0mcls\u001b[0m\u001b[0;34m,\u001b[0m \u001b[0mpath\u001b[0m\u001b[0;34m)\u001b[0m\u001b[0;34m:\u001b[0m\u001b[0;34m\u001b[0m\u001b[0;34m\u001b[0m\u001b[0m\n\u001b[1;32m     70\u001b[0m         \u001b[0minst\u001b[0m \u001b[0;34m=\u001b[0m \u001b[0mcls\u001b[0m\u001b[0;34m.\u001b[0m\u001b[0m__new__\u001b[0m\u001b[0;34m(\u001b[0m\u001b[0mcls\u001b[0m\u001b[0;34m)\u001b[0m\u001b[0;34m\u001b[0m\u001b[0;34m\u001b[0m\u001b[0m\n\u001b[0;32m---> 71\u001b[0;31m         \u001b[0;31m# super(RedditDataset, inst).__init__()\u001b[0m\u001b[0;34m\u001b[0m\u001b[0;34m\u001b[0m\u001b[0m\n\u001b[0m\u001b[1;32m     72\u001b[0m         \u001b[0minst\u001b[0m\u001b[0;34m.\u001b[0m\u001b[0mgf\u001b[0m \u001b[0;34m=\u001b[0m \u001b[0mgml\u001b[0m\u001b[0;34m.\u001b[0m\u001b[0mread_gml\u001b[0m\u001b[0;34m(\u001b[0m\u001b[0mpath\u001b[0m\u001b[0;34m)\u001b[0m\u001b[0;34m\u001b[0m\u001b[0;34m\u001b[0m\u001b[0m\n\u001b[1;32m     73\u001b[0m         \u001b[0;32mreturn\u001b[0m \u001b[0minst\u001b[0m\u001b[0;34m\u001b[0m\u001b[0;34m\u001b[0m\u001b[0m\n",
      "\u001b[0;31mTypeError\u001b[0m: super(type, obj): obj must be an instance or subtype of type"
     ]
    }
   ],
   "source": []
  },
  {
   "cell_type": "code",
   "execution_count": null,
   "metadata": {},
   "outputs": [],
   "source": []
  }
 ],
 "metadata": {
  "interpreter": {
   "hash": "f4aa22b37960225cea0d1186597044f0f3e476e82bf5385025a42941129f9b52"
  },
  "kernelspec": {
   "display_name": "Python 3.9.7 64-bit ('masters--_fQS0pJ': pipenv)",
   "language": "python",
   "name": "python3"
  },
  "language_info": {
   "codemirror_mode": {
    "name": "ipython",
    "version": 3
   },
   "file_extension": ".py",
   "mimetype": "text/x-python",
   "name": "python",
   "nbconvert_exporter": "python",
   "pygments_lexer": "ipython3",
   "version": "3.9.7"
  },
  "orig_nbformat": 4
 },
 "nbformat": 4,
 "nbformat_minor": 2
}
