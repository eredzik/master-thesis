{
 "cells": [
  {
   "cell_type": "code",
   "execution_count": 2,
   "metadata": {},
   "outputs": [],
   "source": [
    "from load_data import load_data, preprocess_features, run_regression"
   ]
  },
  {
   "cell_type": "code",
   "execution_count": 3,
   "metadata": {},
   "outputs": [
    {
     "name": "stdout",
     "output_type": "stream",
     "text": [
      "Loading data...\n"
     ]
    }
   ],
   "source": [
    "\n",
    "dataset_dir, data_dir, setting = [\"../data/reddit\",\n",
    "                \"feat\",\n",
    "                \"test\"]\n",
    "train_ids, test_ids, train_labels, test_labels = load_data(dataset_dir, setting)\n"
   ]
  },
  {
   "cell_type": "code",
   "execution_count": 4,
   "metadata": {},
   "outputs": [
    {
     "name": "stdout",
     "output_type": "stream",
     "text": [
      "Using only features..\n"
     ]
    }
   ],
   "source": [
    "train_feats, test_feats = preprocess_features(dataset_dir, train_ids, test_ids)"
   ]
  },
  {
   "cell_type": "code",
   "execution_count": 9,
   "metadata": {},
   "outputs": [
    {
     "data": {
      "text/plain": [
       "(152410, 152410, 55334, 55334, 152410, 55334)"
      ]
     },
     "execution_count": 9,
     "metadata": {},
     "output_type": "execute_result"
    }
   ],
   "source": [
    "len(train_ids), len(train_feats), len(test_feats), len(test_ids), len(train_labels), len(test_labels)"
   ]
  },
  {
   "cell_type": "code",
   "execution_count": 5,
   "metadata": {},
   "outputs": [
    {
     "name": "stdout",
     "output_type": "stream",
     "text": [
      "Running regression..\n",
      "Test scores\n",
      "0.5276864134167059\n",
      "Train scores\n",
      "0.5349845810642346\n",
      "Random baseline\n",
      "0.14869700365055843\n"
     ]
    }
   ],
   "source": [
    "\n",
    "if data_dir == \"feat\":\n",
    "    print(\"Running regression..\")\n",
    "    run_regression(train_feats, train_labels, test_feats, test_labels)"
   ]
  },
  {
   "cell_type": "code",
   "execution_count": null,
   "metadata": {},
   "outputs": [],
   "source": []
  }
 ],
 "metadata": {
  "interpreter": {
   "hash": "f4aa22b37960225cea0d1186597044f0f3e476e82bf5385025a42941129f9b52"
  },
  "kernelspec": {
   "display_name": "Python 3.9.7 64-bit ('masters--_fQS0pJ': pipenv)",
   "name": "python3"
  },
  "language_info": {
   "codemirror_mode": {
    "name": "ipython",
    "version": 3
   },
   "file_extension": ".py",
   "mimetype": "text/x-python",
   "name": "python",
   "nbconvert_exporter": "python",
   "pygments_lexer": "ipython3",
   "version": "3.9.7"
  },
  "orig_nbformat": 4
 },
 "nbformat": 4,
 "nbformat_minor": 2
}
